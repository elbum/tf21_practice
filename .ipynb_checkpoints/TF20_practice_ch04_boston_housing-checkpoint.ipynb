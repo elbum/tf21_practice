{
 "cells": [
  {
   "cell_type": "code",
   "execution_count": 0,
   "metadata": {
    "colab": {
     "base_uri": "https://localhost:8080/",
     "height": 35
    },
    "colab_type": "code",
    "id": "QuYZwkgijUXC",
    "outputId": "48f88b68-f5d9-452a-cb2c-df1c71a3a8da"
   },
   "outputs": [
    {
     "name": "stdout",
     "output_type": "stream",
     "text": [
      "TensorFlow 2.x selected.\n"
     ]
    }
   ],
   "source": [
    "try:\n",
    "  %tensorflow_version 2.x\n",
    "except Exception:\n",
    "  pass\n",
    "import tensorflow as tf"
   ]
  },
  {
   "cell_type": "code",
   "execution_count": 0,
   "metadata": {
    "colab": {},
    "colab_type": "code",
    "id": "grD6fGFZYcmV"
   },
   "outputs": [],
   "source": []
  },
  {
   "cell_type": "code",
   "execution_count": 0,
   "metadata": {
    "colab": {
     "base_uri": "https://localhost:8080/",
     "height": 53
    },
    "colab_type": "code",
    "id": "YEEJ_w8xi5pL",
    "outputId": "6d98122e-539e-4b41-ba50-ab54c4fe744a"
   },
   "outputs": [
    {
     "name": "stdout",
     "output_type": "stream",
     "text": [
      "Downloading data from https://storage.googleapis.com/tensorflow/tf-keras-datasets/boston_housing.npz\n",
      "57344/57026 [==============================] - 0s 0us/step\n"
     ]
    }
   ],
   "source": [
    "from tensorflow.keras.datasets import boston_housing\n",
    "(train_X,train_Y),(test_X,test_Y) = boston_housing.load_data()"
   ]
  },
  {
   "cell_type": "markdown",
   "metadata": {
    "colab_type": "text",
    "id": "L40V3TdJ-pIH"
   },
   "source": [
    "# 새 섹션"
   ]
  },
  {
   "cell_type": "code",
   "execution_count": 0,
   "metadata": {
    "colab": {
     "base_uri": "https://localhost:8080/",
     "height": 35
    },
    "colab_type": "code",
    "id": "Yv8wQ4ZkjLcw",
    "outputId": "a0bb8854-4ea3-4df0-f339-b480d7d624ac"
   },
   "outputs": [
    {
     "data": {
      "text/plain": [
       "404"
      ]
     },
     "execution_count": 3,
     "metadata": {
      "tags": []
     },
     "output_type": "execute_result"
    }
   ],
   "source": [
    "len(train_X)"
   ]
  },
  {
   "cell_type": "code",
   "execution_count": 0,
   "metadata": {
    "colab": {
     "base_uri": "https://localhost:8080/",
     "height": 35
    },
    "colab_type": "code",
    "id": "DodfqM0gjdEO",
    "outputId": "4cb0411e-a009-41d0-d16f-9826023307f1"
   },
   "outputs": [
    {
     "data": {
      "text/plain": [
       "102"
      ]
     },
     "execution_count": 4,
     "metadata": {
      "tags": []
     },
     "output_type": "execute_result"
    }
   ],
   "source": [
    "len(test_X)"
   ]
  },
  {
   "cell_type": "code",
   "execution_count": 0,
   "metadata": {
    "colab": {
     "base_uri": "https://localhost:8080/",
     "height": 71
    },
    "colab_type": "code",
    "id": "QV6xLw1kjeFe",
    "outputId": "1f16d5a9-0c4e-49c9-ec53-b868c4cf7538"
   },
   "outputs": [
    {
     "data": {
      "text/plain": [
       "array([  1.23247,   0.     ,   8.14   ,   0.     ,   0.538  ,   6.142  ,\n",
       "        91.7    ,   3.9769 ,   4.     , 307.     ,  21.     , 396.9    ,\n",
       "        18.72   ])"
      ]
     },
     "execution_count": 5,
     "metadata": {
      "tags": []
     },
     "output_type": "execute_result"
    }
   ],
   "source": [
    "train_X[0]"
   ]
  },
  {
   "cell_type": "code",
   "execution_count": 0,
   "metadata": {
    "colab": {
     "base_uri": "https://localhost:8080/",
     "height": 35
    },
    "colab_type": "code",
    "id": "Ah_lyZaun9Yy",
    "outputId": "c834c134-537c-441d-94ce-613d61737a82"
   },
   "outputs": [
    {
     "data": {
      "text/plain": [
       "69.79277358530084"
      ]
     },
     "execution_count": 6,
     "metadata": {
      "tags": []
     },
     "output_type": "execute_result"
    }
   ],
   "source": [
    "x_mean = train_X.mean()\n",
    "x_mean"
   ]
  },
  {
   "cell_type": "code",
   "execution_count": 0,
   "metadata": {
    "colab": {
     "base_uri": "https://localhost:8080/",
     "height": 35
    },
    "colab_type": "code",
    "id": "v2K-KuNeeb8v",
    "outputId": "9805fe10-c481-4068-ff45-7f208a20eec6"
   },
   "outputs": [
    {
     "data": {
      "text/plain": [
       "144.39194712410696"
      ]
     },
     "execution_count": 7,
     "metadata": {
      "tags": []
     },
     "output_type": "execute_result"
    }
   ],
   "source": [
    "x_std = train_X.std()\n",
    "x_std"
   ]
  },
  {
   "cell_type": "code",
   "execution_count": 0,
   "metadata": {
    "colab": {
     "base_uri": "https://localhost:8080/",
     "height": 71
    },
    "colab_type": "code",
    "id": "g4SJJlaKefCt",
    "outputId": "4fb16d0d-26c6-44a8-ee5d-97ddbaa2477c"
   },
   "outputs": [
    {
     "data": {
      "text/plain": [
       "array([-0.47482083, -0.48335641, -0.42698208, -0.48335641, -0.47963044,\n",
       "       -0.44081941,  0.15172056, -0.45581402, -0.45565404,  1.64280094,\n",
       "       -0.33791894,  2.26541184, -0.35370929])"
      ]
     },
     "execution_count": 8,
     "metadata": {
      "tags": []
     },
     "output_type": "execute_result"
    }
   ],
   "source": [
    "train_X -= x_mean\n",
    "train_X /= x_std\n",
    "train_X[0]"
   ]
  },
  {
   "cell_type": "code",
   "execution_count": 0,
   "metadata": {
    "colab": {
     "base_uri": "https://localhost:8080/",
     "height": 71
    },
    "colab_type": "code",
    "id": "pmR8jfHNewFF",
    "outputId": "659fc33a-d1fc-44be-c58c-1234bca47c71"
   },
   "outputs": [
    {
     "data": {
      "text/plain": [
       "array([-0.35810982, -0.48335641, -0.35800316, -0.48335641, -0.47865393,\n",
       "       -0.43879714,  0.20920299, -0.47065003, -0.31714216,  4.12908918,\n",
       "       -0.34345941, -0.29463398, -0.28216791])"
      ]
     },
     "execution_count": 9,
     "metadata": {
      "tags": []
     },
     "output_type": "execute_result"
    }
   ],
   "source": [
    "test_X -= x_mean\n",
    "test_X /= x_std\n",
    "test_X[0]"
   ]
  },
  {
   "cell_type": "code",
   "execution_count": 0,
   "metadata": {
    "colab": {
     "base_uri": "https://localhost:8080/",
     "height": 35
    },
    "colab_type": "code",
    "id": "feUjIJ8we4Yp",
    "outputId": "42ff989a-56a9-41ae-df12-b579748a24cc"
   },
   "outputs": [
    {
     "data": {
      "text/plain": [
       "22.395049504950492"
      ]
     },
     "execution_count": 10,
     "metadata": {
      "tags": []
     },
     "output_type": "execute_result"
    }
   ],
   "source": [
    "y_mean = train_Y.mean()\n",
    "y_mean"
   ]
  },
  {
   "cell_type": "code",
   "execution_count": 0,
   "metadata": {
    "colab": {
     "base_uri": "https://localhost:8080/",
     "height": 35
    },
    "colab_type": "code",
    "id": "rMGyIjFXe8XU",
    "outputId": "a9684e0e-d43d-4489-e2fa-073fd9f829ea"
   },
   "outputs": [
    {
     "data": {
      "text/plain": [
       "15.2"
      ]
     },
     "execution_count": 11,
     "metadata": {
      "tags": []
     },
     "output_type": "execute_result"
    }
   ],
   "source": [
    "train_Y[0]"
   ]
  },
  {
   "cell_type": "code",
   "execution_count": 0,
   "metadata": {
    "colab": {
     "base_uri": "https://localhost:8080/",
     "height": 35
    },
    "colab_type": "code",
    "id": "G5vi6fyPe_BS",
    "outputId": "2fbca032-7bf1-408b-fe64-ca1c04471639"
   },
   "outputs": [
    {
     "data": {
      "text/plain": [
       "9.199035423364862"
      ]
     },
     "execution_count": 12,
     "metadata": {
      "tags": []
     },
     "output_type": "execute_result"
    }
   ],
   "source": [
    "y_std = train_Y.std()\n",
    "y_std"
   ]
  },
  {
   "cell_type": "code",
   "execution_count": 0,
   "metadata": {
    "colab": {
     "base_uri": "https://localhost:8080/",
     "height": 35
    },
    "colab_type": "code",
    "id": "pdc70ZlDfBki",
    "outputId": "7b40df40-bb39-46cf-d231-d2594698082f"
   },
   "outputs": [
    {
     "data": {
      "text/plain": [
       "-0.7821526033779157"
      ]
     },
     "execution_count": 13,
     "metadata": {
      "tags": []
     },
     "output_type": "execute_result"
    }
   ],
   "source": [
    "train_Y -= y_mean\n",
    "train_Y /= y_std\n",
    "train_Y[0]"
   ]
  },
  {
   "cell_type": "code",
   "execution_count": 0,
   "metadata": {
    "colab": {
     "base_uri": "https://localhost:8080/",
     "height": 35
    },
    "colab_type": "code",
    "id": "KnAO4C6xgsr7",
    "outputId": "8bbd9151-4a05-4fd5-88e4-61f54cb6f029"
   },
   "outputs": [
    {
     "data": {
      "text/plain": [
       "-1.6518090001432328"
      ]
     },
     "execution_count": 14,
     "metadata": {
      "tags": []
     },
     "output_type": "execute_result"
    }
   ],
   "source": [
    "test_Y -= y_mean\n",
    "test_Y /= y_std\n",
    "test_Y[0]"
   ]
  },
  {
   "cell_type": "code",
   "execution_count": 0,
   "metadata": {
    "colab": {},
    "colab_type": "code",
    "id": "QdqmQ19XfHjs"
   },
   "outputs": [],
   "source": [
    "model = tf.keras.Sequential([\n",
    "                             tf.keras.layers.Dense(units=52,activation='relu',input_shape=(13,)),\n",
    "                             tf.keras.layers.Dense(units=39,activation='relu'),\n",
    "                             tf.keras.layers.Dense(units=26,activation='relu'),\n",
    "                             tf.keras.layers.Dense(units=1)\n",
    "])"
   ]
  },
  {
   "cell_type": "code",
   "execution_count": 0,
   "metadata": {
    "colab": {
     "base_uri": "https://localhost:8080/",
     "height": 305
    },
    "colab_type": "code",
    "id": "8EG9YKvJfjMK",
    "outputId": "f47d00df-91f3-4678-9daf-5257dc434c54"
   },
   "outputs": [
    {
     "name": "stdout",
     "output_type": "stream",
     "text": [
      "Model: \"sequential\"\n",
      "_________________________________________________________________\n",
      "Layer (type)                 Output Shape              Param #   \n",
      "=================================================================\n",
      "dense (Dense)                (None, 52)                728       \n",
      "_________________________________________________________________\n",
      "dense_1 (Dense)              (None, 39)                2067      \n",
      "_________________________________________________________________\n",
      "dense_2 (Dense)              (None, 26)                1040      \n",
      "_________________________________________________________________\n",
      "dense_3 (Dense)              (None, 1)                 27        \n",
      "=================================================================\n",
      "Total params: 3,862\n",
      "Trainable params: 3,862\n",
      "Non-trainable params: 0\n",
      "_________________________________________________________________\n"
     ]
    }
   ],
   "source": [
    "model.compile(optimizer=tf.keras.optimizers.Adam(lr=0.07),loss='mse')\n",
    "model.summary()"
   ]
  },
  {
   "cell_type": "code",
   "execution_count": 0,
   "metadata": {
    "colab": {
     "base_uri": "https://localhost:8080/",
     "height": 935
    },
    "colab_type": "code",
    "id": "FLbI6hcufttO",
    "outputId": "9eccaa1e-5c04-4ea1-d968-fe65b668ab9d"
   },
   "outputs": [
    {
     "name": "stdout",
     "output_type": "stream",
     "text": [
      "Train on 303 samples, validate on 101 samples\n",
      "Epoch 1/25\n",
      "303/303 [==============================] - 1s 2ms/sample - loss: 8.0517 - val_loss: 1.2090\n",
      "Epoch 2/25\n",
      "303/303 [==============================] - 0s 122us/sample - loss: 0.9456 - val_loss: 1.1903\n",
      "Epoch 3/25\n",
      "303/303 [==============================] - 0s 113us/sample - loss: 0.9333 - val_loss: 1.3831\n",
      "Epoch 4/25\n",
      "303/303 [==============================] - 0s 124us/sample - loss: 0.9101 - val_loss: 1.2128\n",
      "Epoch 5/25\n",
      "303/303 [==============================] - 0s 122us/sample - loss: 0.9154 - val_loss: 1.1773\n",
      "Epoch 6/25\n",
      "303/303 [==============================] - 0s 122us/sample - loss: 0.8983 - val_loss: 1.3416\n",
      "Epoch 7/25\n",
      "303/303 [==============================] - 0s 126us/sample - loss: 0.8729 - val_loss: 1.2415\n",
      "Epoch 8/25\n",
      "303/303 [==============================] - 0s 118us/sample - loss: 0.8046 - val_loss: 1.0980\n",
      "Epoch 9/25\n",
      "303/303 [==============================] - 0s 130us/sample - loss: 0.7368 - val_loss: 1.0907\n",
      "Epoch 10/25\n",
      "303/303 [==============================] - 0s 116us/sample - loss: 0.7510 - val_loss: 1.0714\n",
      "Epoch 11/25\n",
      "303/303 [==============================] - 0s 133us/sample - loss: 0.7784 - val_loss: 1.0911\n",
      "Epoch 12/25\n",
      "303/303 [==============================] - 0s 146us/sample - loss: 0.6950 - val_loss: 1.0521\n",
      "Epoch 13/25\n",
      "303/303 [==============================] - 0s 113us/sample - loss: 0.6875 - val_loss: 1.0427\n",
      "Epoch 14/25\n",
      "303/303 [==============================] - 0s 167us/sample - loss: 0.7049 - val_loss: 1.1021\n",
      "Epoch 15/25\n",
      "303/303 [==============================] - 0s 127us/sample - loss: 0.6475 - val_loss: 1.0559\n",
      "Epoch 16/25\n",
      "303/303 [==============================] - 0s 117us/sample - loss: 0.6553 - val_loss: 1.1387\n",
      "Epoch 17/25\n",
      "303/303 [==============================] - 0s 117us/sample - loss: 0.6431 - val_loss: 1.1127\n",
      "Epoch 18/25\n",
      "303/303 [==============================] - 0s 124us/sample - loss: 0.6451 - val_loss: 1.0658\n",
      "Epoch 19/25\n",
      "303/303 [==============================] - 0s 144us/sample - loss: 0.6563 - val_loss: 1.0430\n",
      "Epoch 20/25\n",
      "303/303 [==============================] - 0s 136us/sample - loss: 0.6479 - val_loss: 1.2624\n",
      "Epoch 21/25\n",
      "303/303 [==============================] - 0s 129us/sample - loss: 0.6931 - val_loss: 1.1064\n",
      "Epoch 22/25\n",
      "303/303 [==============================] - 0s 123us/sample - loss: 0.6679 - val_loss: 1.0421\n",
      "Epoch 23/25\n",
      "303/303 [==============================] - 0s 160us/sample - loss: 0.6606 - val_loss: 1.1273\n",
      "Epoch 24/25\n",
      "303/303 [==============================] - 0s 137us/sample - loss: 0.6302 - val_loss: 1.0816\n",
      "Epoch 25/25\n",
      "303/303 [==============================] - 0s 117us/sample - loss: 0.6359 - val_loss: 1.0791\n"
     ]
    }
   ],
   "source": [
    "history = model.fit(train_X,train_Y,epochs=25,batch_size=32,validation_split=0.25)"
   ]
  },
  {
   "cell_type": "code",
   "execution_count": 0,
   "metadata": {
    "colab": {
     "base_uri": "https://localhost:8080/",
     "height": 279
    },
    "colab_type": "code",
    "id": "RF3XcmmIf9Fs",
    "outputId": "3789dedd-2877-4f24-ca1f-207093df77e8"
   },
   "outputs": [
    {
     "data": {
      "image/png": "[encoded data removed]",
      "text/plain": [
       "<Figure size 432x288 with 1 Axes>"
      ]
     },
     "metadata": {
      "tags": []
     },
     "output_type": "display_data"
    }
   ],
   "source": [
    "import matplotlib.pyplot as plt\n",
    "plt.plot(history.history['loss'],'b-',label='loss')\n",
    "plt.plot(history.history['val_loss'],'r--',label='val_loss')\n",
    "plt.xlabel('Epoch')\n",
    "plt.legend()\n",
    "plt.show()"
   ]
  },
  {
   "cell_type": "code",
   "execution_count": 0,
   "metadata": {
    "colab": {
     "base_uri": "https://localhost:8080/",
     "height": 53
    },
    "colab_type": "code",
    "id": "j312Q-JdgTvV",
    "outputId": "4002d923-7e7e-4b22-b03d-f0b9270d703c"
   },
   "outputs": [
    {
     "name": "stdout",
     "output_type": "stream",
     "text": [
      "102/102 [==============================] - 0s 91us/sample - loss: 0.6664\n"
     ]
    },
    {
     "data": {
      "text/plain": [
       "0.6664336989907658"
      ]
     },
     "execution_count": 19,
     "metadata": {
      "tags": []
     },
     "output_type": "execute_result"
    }
   ],
   "source": [
    "model.evaluate(test_X,test_Y)"
   ]
  },
  {
   "cell_type": "code",
   "execution_count": 0,
   "metadata": {
    "colab": {
     "base_uri": "https://localhost:8080/",
     "height": 53
    },
    "colab_type": "code",
    "id": "8rnE0yL2gdJ9",
    "outputId": "1d9cd6d4-b0bd-4350-e829-658f60933b62"
   },
   "outputs": [
    {
     "name": "stdout",
     "output_type": "stream",
     "text": [
      "102/102 [==============================] - 0s 98us/sample - loss: 0.6664\n"
     ]
    },
    {
     "data": {
      "text/plain": [
       "0.6664336989907658"
      ]
     },
     "execution_count": 20,
     "metadata": {
      "tags": []
     },
     "output_type": "execute_result"
    }
   ],
   "source": [
    "model.evaluate(test_X,test_Y)"
   ]
  },
  {
   "cell_type": "code",
   "execution_count": 0,
   "metadata": {
    "colab": {
     "base_uri": "https://localhost:8080/",
     "height": 339
    },
    "colab_type": "code",
    "id": "mz0f3GKug0F7",
    "outputId": "e3eeb722-4f7b-4f41-fb70-962dfdcdad5a"
   },
   "outputs": [
    {
     "data": {
      "image/png": "[encoded data removed]",
      "text/plain": [
       "<Figure size 360x360 with 1 Axes>"
      ]
     },
     "metadata": {
      "tags": []
     },
     "output_type": "display_data"
    }
   ],
   "source": [
    "pred_Y = model.predict(test_X)\n",
    "\n",
    "plt.figure(figsize=(5,5))\n",
    "plt.plot(test_Y,pred_Y,'b.')\n",
    "plt.axis([min(test_Y),max(test_Y),min(test_Y),max(test_Y)])\n",
    "\n",
    "plt.plot([min(test_Y),max(test_Y)],[min(test_Y),max(test_Y)],ls='--',c='.3')\n",
    "plt.xlabel('test_Y')\n",
    "plt.ylabel('pred_Y')\n",
    "plt.show()"
   ]
  },
  {
   "cell_type": "code",
   "execution_count": 0,
   "metadata": {
    "colab": {},
    "colab_type": "code",
    "id": "ISWpPF9phRoH"
   },
   "outputs": [],
   "source": [
    "plt.show()"
   ]
  },
  {
   "cell_type": "code",
   "execution_count": 0,
   "metadata": {
    "colab": {
     "base_uri": "https://localhost:8080/",
     "height": 305
    },
    "colab_type": "code",
    "id": "OkXP8Au-hURQ",
    "outputId": "655578cc-7e5e-46ce-f1f0-8f68f936e835"
   },
   "outputs": [
    {
     "name": "stdout",
     "output_type": "stream",
     "text": [
      "Model: \"sequential_1\"\n",
      "_________________________________________________________________\n",
      "Layer (type)                 Output Shape              Param #   \n",
      "=================================================================\n",
      "dense_4 (Dense)              (None, 52)                728       \n",
      "_________________________________________________________________\n",
      "dense_5 (Dense)              (None, 39)                2067      \n",
      "_________________________________________________________________\n",
      "dense_6 (Dense)              (None, 26)                1040      \n",
      "_________________________________________________________________\n",
      "dense_7 (Dense)              (None, 1)                 27        \n",
      "=================================================================\n",
      "Total params: 3,862\n",
      "Trainable params: 3,862\n",
      "Non-trainable params: 0\n",
      "_________________________________________________________________\n"
     ]
    }
   ],
   "source": [
    "# use early stoppting\n",
    "\n",
    "model = tf.keras.Sequential([\n",
    "                             tf.keras.layers.Dense(units=52,activation='relu',input_shape=(13,)),\n",
    "                             tf.keras.layers.Dense(units=39,activation='relu'),\n",
    "                             tf.keras.layers.Dense(units=26,activation='relu'),\n",
    "                             tf.keras.layers.Dense(units=1)\n",
    "])\n",
    "\n",
    "model.compile(optimizer=tf.keras.optimizers.Adam(lr=0.07),loss='mse')\n",
    "model.summary()"
   ]
  },
  {
   "cell_type": "code",
   "execution_count": 0,
   "metadata": {
    "colab": {
     "base_uri": "https://localhost:8080/",
     "height": 251
    },
    "colab_type": "code",
    "id": "enOI2pTvhr5n",
    "outputId": "7973c1b1-e700-43cd-a73e-c60bc85f18a3"
   },
   "outputs": [
    {
     "name": "stdout",
     "output_type": "stream",
     "text": [
      "Train on 303 samples, validate on 101 samples\n",
      "Epoch 1/25\n",
      "303/303 [==============================] - 0s 1ms/sample - loss: 6.3676 - val_loss: 1.2679\n",
      "Epoch 2/25\n",
      "303/303 [==============================] - 0s 177us/sample - loss: 0.9339 - val_loss: 1.2447\n",
      "Epoch 3/25\n",
      "303/303 [==============================] - 0s 165us/sample - loss: 0.9255 - val_loss: 1.2386\n",
      "Epoch 4/25\n",
      "303/303 [==============================] - 0s 120us/sample - loss: 0.9141 - val_loss: 1.2997\n",
      "Epoch 5/25\n",
      "303/303 [==============================] - 0s 104us/sample - loss: 0.9199 - val_loss: 1.2437\n",
      "Epoch 6/25\n",
      "303/303 [==============================] - 0s 123us/sample - loss: 0.9073 - val_loss: 1.2886\n"
     ]
    }
   ],
   "source": [
    "history = model.fit(train_X,train_Y,epochs=25,batch_size=32,validation_split=0.25\n",
    "                    ,callbacks=[tf.keras.callbacks.EarlyStopping(patience=3,monitor='val_loss')])"
   ]
  },
  {
   "cell_type": "code",
   "execution_count": 0,
   "metadata": {
    "colab": {
     "base_uri": "https://localhost:8080/",
     "height": 172
    },
    "colab_type": "code",
    "id": "iNJihW_Mi47y",
    "outputId": "08d9e013-b9b1-459c-989f-4faa134aae19"
   },
   "outputs": [
    {
     "ename": "NameError",
     "evalue": "ignored",
     "output_type": "error",
     "traceback": [
      "\u001b[0;31m---------------------------------------------------------------------------\u001b[0m",
      "\u001b[0;31mNameError\u001b[0m                                 Traceback (most recent call last)",
      "\u001b[0;32m<ipython-input-1-371a89fec406>\u001b[0m in \u001b[0;36m<module>\u001b[0;34m()\u001b[0m\n\u001b[0;32m----> 1\u001b[0;31m \u001b[0mmodel\u001b[0m\u001b[0;34m.\u001b[0m\u001b[0mevaluate\u001b[0m\u001b[0;34m(\u001b[0m\u001b[0mtest_X\u001b[0m\u001b[0;34m,\u001b[0m\u001b[0mtest_Y\u001b[0m\u001b[0;34m)\u001b[0m\u001b[0;34m\u001b[0m\u001b[0;34m\u001b[0m\u001b[0m\n\u001b[0m",
      "\u001b[0;31mNameError\u001b[0m: name 'model' is not defined"
     ]
    }
   ],
   "source": [
    "model.evaluate(test_X,test_Y)\n"
   ]
  },
  {
   "cell_type": "code",
   "execution_count": 0,
   "metadata": {
    "colab": {},
    "colab_type": "code",
    "id": "kBM9efK2i4tp"
   },
   "outputs": [],
   "source": []
  },
  {
   "cell_type": "code",
   "execution_count": 0,
   "metadata": {
    "colab": {
     "base_uri": "https://localhost:8080/",
     "height": 339
    },
    "colab_type": "code",
    "id": "lTzNYFnwh4nR",
    "outputId": "b5eac604-b41e-4157-f3ae-07ee3bd50aba"
   },
   "outputs": [
    {
     "data": {
      "image/png": "[encoded data removed]",
      "text/plain": [
       "<Figure size 360x360 with 1 Axes>"
      ]
     },
     "metadata": {
      "tags": []
     },
     "output_type": "display_data"
    }
   ],
   "source": [
    "pred_Y = model.predict(test_X)\n",
    "\n",
    "plt.figure(figsize=(5,5))\n",
    "plt.plot(test_Y,pred_Y,'b.')\n",
    "plt.axis([min(test_Y),max(test_Y),min(test_Y),max(test_Y)])\n",
    "\n",
    "plt.plot([min(test_Y),max(test_Y)],[min(test_Y),max(test_Y)],ls='--',c='.3')\n",
    "plt.xlabel('test_Y')\n",
    "plt.ylabel('pred_Y')\n",
    "plt.show()"
   ]
  },
  {
   "cell_type": "code",
   "execution_count": 0,
   "metadata": {
    "colab": {},
    "colab_type": "code",
    "id": "iR5naIWAizl7"
   },
   "outputs": [],
   "source": []
  }
 ],
 "metadata": {
  "accelerator": "GPU",
  "colab": {
   "collapsed_sections": [],
   "name": "TF20_practice_ch04",
   "provenance": []
  },
  "kernelspec": {
   "display_name": "Python 3",
   "language": "python",
   "name": "python3"
  },
  "language_info": {
   "codemirror_mode": {
    "name": "ipython",
    "version": 3
   },
   "file_extension": ".py",
   "mimetype": "text/x-python",
   "name": "python",
   "nbconvert_exporter": "python",
   "pygments_lexer": "ipython3",
   "version": "3.7.6"
  }
 },
 "nbformat": 4,
 "nbformat_minor": 1
}
